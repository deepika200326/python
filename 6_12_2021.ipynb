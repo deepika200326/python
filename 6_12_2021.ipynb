{
  "nbformat": 4,
  "nbformat_minor": 0,
  "metadata": {
    "colab": {
      "name": "6-12-2021.ipynb",
      "provenance": [],
      "authorship_tag": "ABX9TyMg6AjcQQ+4Q6NsbXyAgk1J",
      "include_colab_link": true
    },
    "kernelspec": {
      "name": "python3",
      "display_name": "Python 3"
    },
    "language_info": {
      "name": "python"
    }
  },
  "cells": [
    {
      "cell_type": "markdown",
      "metadata": {
        "id": "view-in-github",
        "colab_type": "text"
      },
      "source": [
        "<a href=\"https://colab.research.google.com/github/deepika200326/python/blob/main/6_12_2021.ipynb\" target=\"_parent\"><img src=\"https://colab.research.google.com/assets/colab-badge.svg\" alt=\"Open In Colab\"/></a>"
      ]
    },
    {
      "cell_type": "code",
      "metadata": {
        "colab": {
          "base_uri": "https://localhost:8080/"
        },
        "id": "QhdERmkXY4tD",
        "outputId": "a875f37f-3f3d-4f1f-92a5-bd037242fdec"
      },
      "source": [
        "for i in range(10):\n",
        "  if(i==7):\n",
        "    print('processing is enough..plz break')\n",
        "    break\n",
        "  print(i)"
      ],
      "execution_count": 1,
      "outputs": [
        {
          "output_type": "stream",
          "name": "stdout",
          "text": [
            "0\n",
            "1\n",
            "2\n",
            "3\n",
            "4\n",
            "5\n",
            "6\n",
            "processing is enough..plz break\n"
          ]
        }
      ]
    },
    {
      "cell_type": "code",
      "metadata": {
        "colab": {
          "base_uri": "https://localhost:8080/"
        },
        "id": "eSqvpFnJY_rT",
        "outputId": "8f921de3-15f8-43d6-cb5b-307f37130b9f"
      },
      "source": [
        "for i in range(20):\n",
        "  if i%2==0:\n",
        "    if i==10:\n",
        "      break\n",
        "    print(i)"
      ],
      "execution_count": 2,
      "outputs": [
        {
          "output_type": "stream",
          "name": "stdout",
          "text": [
            "0\n",
            "2\n",
            "4\n",
            "6\n",
            "8\n"
          ]
        }
      ]
    },
    {
      "cell_type": "code",
      "metadata": {
        "colab": {
          "base_uri": "https://localhost:8080/"
        },
        "id": "aF-kuN1pZDUh",
        "outputId": "5e3d4316-8e82-47a8-de9e-f22bb4f7cba9"
      },
      "source": [
        "for i in range(20):\n",
        "  if i%2!=0:\n",
        "    if i==11:\n",
        "      break\n",
        "    print(i)"
      ],
      "execution_count": 3,
      "outputs": [
        {
          "output_type": "stream",
          "name": "stdout",
          "text": [
            "1\n",
            "3\n",
            "5\n",
            "7\n",
            "9\n"
          ]
        }
      ]
    },
    {
      "cell_type": "code",
      "metadata": {
        "colab": {
          "base_uri": "https://localhost:8080/"
        },
        "id": "Fr-rBp0XZHaf",
        "outputId": "c18b8ec4-df9c-433f-b81a-549c6c89e351"
      },
      "source": [
        "for i in range(10,100):\n",
        "  if i%2==0:\n",
        "    if i==22:\n",
        "      break\n",
        "    print(i)"
      ],
      "execution_count": 29,
      "outputs": [
        {
          "output_type": "stream",
          "name": "stdout",
          "text": [
            "10\n",
            "12\n",
            "14\n",
            "16\n",
            "18\n",
            "20\n"
          ]
        }
      ]
    },
    {
      "cell_type": "code",
      "metadata": {
        "colab": {
          "base_uri": "https://localhost:8080/"
        },
        "id": "qzDtCKO3ZMGg",
        "outputId": "e9645d51-877d-4770-dc83-62902b39c870"
      },
      "source": [
        "for i in range(10,100):\n",
        "  if i%2!=0:\n",
        "    if i==21:\n",
        "      break\n",
        "    print(i)"
      ],
      "execution_count": 5,
      "outputs": [
        {
          "output_type": "stream",
          "name": "stdout",
          "text": [
            "11\n",
            "13\n",
            "15\n",
            "17\n",
            "19\n"
          ]
        }
      ]
    },
    {
      "cell_type": "code",
      "metadata": {
        "colab": {
          "base_uri": "https://localhost:8080/"
        },
        "id": "3kg_8k1peEf1",
        "outputId": "71300216-a221-42c2-d63c-e5d743d9a06f"
      },
      "source": [
        "for i in range(10):\n",
        "  if(i==7):\n",
        "    print('this value is not needed..plz continue')\n",
        "    continue\n",
        "  print(i)"
      ],
      "execution_count": 7,
      "outputs": [
        {
          "output_type": "stream",
          "name": "stdout",
          "text": [
            "0\n",
            "1\n",
            "2\n",
            "3\n",
            "4\n",
            "5\n",
            "6\n",
            "this value is not needed..plz continue\n",
            "8\n",
            "9\n"
          ]
        }
      ]
    },
    {
      "cell_type": "code",
      "metadata": {
        "colab": {
          "base_uri": "https://localhost:8080/"
        },
        "id": "p7_G1fWheaSk",
        "outputId": "bd5dae08-3cb9-4cc7-bc82-afac184aec63"
      },
      "source": [
        "for i in range(20):\n",
        "  if i<10:\n",
        "    if i%2!=0:\n",
        "      continue\n",
        "    print(i)"
      ],
      "execution_count": 35,
      "outputs": [
        {
          "output_type": "stream",
          "name": "stdout",
          "text": [
            "0\n",
            "2\n",
            "4\n",
            "6\n",
            "8\n"
          ]
        }
      ]
    },
    {
      "cell_type": "code",
      "metadata": {
        "colab": {
          "base_uri": "https://localhost:8080/"
        },
        "id": "kZxmY51Eegpk",
        "outputId": "490e93d1-b8c4-4ac1-ceb8-e00f90ad69c0"
      },
      "source": [
        "for i in range(20):\n",
        "  if i<=10:\n",
        "    if i%2==0:\n",
        "      continue\n",
        "    print(i)"
      ],
      "execution_count": 32,
      "outputs": [
        {
          "output_type": "stream",
          "name": "stdout",
          "text": [
            "1\n",
            "3\n",
            "5\n",
            "7\n",
            "9\n"
          ]
        }
      ]
    },
    {
      "cell_type": "code",
      "metadata": {
        "colab": {
          "base_uri": "https://localhost:8080/"
        },
        "id": "mitnyUNjfpUB",
        "outputId": "25b68c36-afca-4421-beae-ce88707b5673"
      },
      "source": [
        "for i in range(20):\n",
        "  if i>=10:\n",
        "    if i%2==0:\n",
        "      continue\n",
        "    print(i)"
      ],
      "execution_count": 28,
      "outputs": [
        {
          "output_type": "stream",
          "name": "stdout",
          "text": [
            "11\n",
            "13\n",
            "15\n",
            "17\n",
            "19\n"
          ]
        }
      ]
    },
    {
      "cell_type": "code",
      "metadata": {
        "colab": {
          "base_uri": "https://localhost:8080/"
        },
        "id": "m4hbqDMCfsfS",
        "outputId": "dca6a417-c595-4f68-9508-fb95f0a2bf84"
      },
      "source": [
        "for i in range(20):\n",
        "  if i>=10:\n",
        "    if i%2!=0:\n",
        "      continue\n",
        "    print(i)"
      ],
      "execution_count": 27,
      "outputs": [
        {
          "output_type": "stream",
          "name": "stdout",
          "text": [
            "10\n",
            "12\n",
            "14\n",
            "16\n",
            "18\n"
          ]
        }
      ]
    },
    {
      "cell_type": "code",
      "metadata": {
        "id": "attFBhp9gGPo"
      },
      "source": [
        ""
      ],
      "execution_count": null,
      "outputs": []
    }
  ]
}